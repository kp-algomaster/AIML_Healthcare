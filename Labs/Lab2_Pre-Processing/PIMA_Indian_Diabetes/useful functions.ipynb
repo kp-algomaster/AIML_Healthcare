{
 "cells": [
  {
   "cell_type": "markdown",
   "metadata": {},
   "source": [
    "**Data Stratification **\n",
    "\n",
    "When we split the dataset into train and test datasets, the split is completely random. Thus the instances of each class label or outcome in the train or test datasets is random. Thus we may have many instances of class 1 in training data and less instances of class 2 in the training data. So during classification, we may have accurate predictions for class1 but not for class2. Thus we stratify the data, so that we have proportionate data for all the classes in both the training and testing data."
   ]
  },
  {
   "cell_type": "code",
   "execution_count": 50,
   "metadata": {},
   "outputs": [
    {
     "name": "stdout",
     "output_type": "stream",
     "text": [
      "<class 'pandas.core.frame.DataFrame'>\n",
      "RangeIndex: 768 entries, 0 to 767\n",
      "Data columns (total 9 columns):\n",
      "Pregnancies                 768 non-null int64\n",
      "Glucose                     768 non-null int64\n",
      "BloodPressure               768 non-null int64\n",
      "SkinThickness               768 non-null int64\n",
      "Insulin                     768 non-null int64\n",
      "BMI                         768 non-null float64\n",
      "DiabetesPedigreeFunction    768 non-null float64\n",
      "Age                         768 non-null int64\n",
      "Outcome                     768 non-null int64\n",
      "dtypes: float64(2), int64(7)\n",
      "memory usage: 54.1 KB\n",
      "None\n"
     ]
    }
   ],
   "source": [
    "import pandas as pd\n",
    "headers = ['Pregnancies', 'Glucose', 'BloodPressure', 'SkinThickness', 'Insulin', 'BMI', 'DiabetesPedigreeFunction', 'Age', 'Outcome']\n",
    "pima_df = pd.read_csv('DataSets/pima-indians-diabetes.data.csv',names=headers)\n",
    "print(pima_df.info())"
   ]
  },
  {
   "cell_type": "code",
   "execution_count": 25,
   "metadata": {},
   "outputs": [],
   "source": [
    "from sklearn.model_selection import train_test_split \n",
    "\n",
    "# divide into training and testing data\n",
    "train,test = train_test_split(pima_df, test_size=0.25, random_state=0, stratify=pima_df['Outcome']) \n",
    "\n",
    "# separate the 'Outcome' column from training/testing data\n",
    "train_X = train[train.columns[:8]]\n",
    "test_X = test[test.columns[:8]]\n",
    "train_Y = train['Outcome']\n",
    "test_Y = test['Outcome']"
   ]
  },
  {
   "cell_type": "code",
   "execution_count": 26,
   "metadata": {},
   "outputs": [],
   "source": [
    "#statistical model\n",
    "from sklearn.linear_model import LogisticRegression\n",
    "\n",
    "model = LogisticRegression()\n",
    "model.fit(train_X,train_Y)\n",
    "prediction = model.predict(test_X)"
   ]
  },
  {
   "cell_type": "markdown",
   "metadata": {},
   "source": [
    "**null accuracy**\n",
    "\n",
    "the accuracy that could be achieved by always predicting the most frequent class."
   ]
  },
  {
   "cell_type": "code",
   "execution_count": 27,
   "metadata": {},
   "outputs": [
    {
     "name": "stdout",
     "output_type": "stream",
     "text": [
      "accuracy: 0.7760416666666666\n",
      "null accuracy: 0.6510416666666666\n"
     ]
    }
   ],
   "source": [
    "# calculate accuracy\n",
    "from sklearn import metrics\n",
    "\n",
    "print(\"accuracy: \"+str(metrics.accuracy_score(test_Y, prediction)))\n",
    "\n",
    "the_most_outcome = pima_df['Outcome'].median()\n",
    "prediction2 = [the_most_outcome for i in range(len(test_Y))]\n",
    "print(\"null accuracy: \"+str(metrics.accuracy_score(test_Y, prediction2)))"
   ]
  },
  {
   "cell_type": "markdown",
   "metadata": {},
   "source": [
    "This means that a dumb model that always predicts 0 would be right 65.1% of the time. This shows how classification accuracy might not be the best method to compare different models.\n",
    "\n",
    "Accuracy just tells you the percentage of correct predictions, but it does not tell you what \"types\" of errors your classifier is making. The confusion matrix gives you a more complete picture of how your classifier is performing."
   ]
  },
  {
   "cell_type": "markdown",
   "metadata": {},
   "source": [
    "**Confusion Matrix**"
   ]
  },
  {
   "cell_type": "code",
   "execution_count": 13,
   "metadata": {},
   "outputs": [
    {
     "data": {
      "text/plain": [
       "array([[110,  15],\n",
       "       [ 28,  39]])"
      ]
     },
     "execution_count": 13,
     "metadata": {},
     "output_type": "execute_result"
    }
   ],
   "source": [
    "from sklearn import metrics\n",
    "\n",
    "confusion_matrix = metrics.confusion_matrix(test_Y, prediction)\n",
    "confusion_matrix"
   ]
  },
  {
   "cell_type": "code",
   "execution_count": 15,
   "metadata": {},
   "outputs": [
    {
     "data": {
      "text/plain": [
       "<matplotlib.figure.Figure at 0x105cade50>"
      ]
     },
     "metadata": {},
     "output_type": "display_data"
    },
    {
     "data": {
      "text/plain": [
       "<matplotlib.figure.Figure at 0x1a0db21510>"
      ]
     },
     "metadata": {},
     "output_type": "display_data"
    }
   ],
   "source": [
    "import matplotlib.pyplot as plt\n",
    "plt.figure()\n",
    "plt.matshow(confusion_matrix, cmap='Pastel1')\n",
    "\n",
    "for x in range(0, 2):\n",
    "    for y in range(0, 2):\n",
    "        plt.text(x, y, confusion_matrix[x, y])\n",
    "        \n",
    "plt.ylabel('expected label')\n",
    "plt.xlabel('predicted label')\n",
    "plt.show()"
   ]
  },
  {
   "cell_type": "markdown",
   "metadata": {},
   "source": [
    "For beginners the visual respresentation of the confusion matrix helps a lot. Later on you probably don't need it anymore. We can see the following in the table:\n",
    "\n",
    "0: Person will have diabetes in 5 years<br />\n",
    "1: Person will NOT have diabetes in 5 years\n",
    "\n",
    "**True Positives (TP)**: (39) we correctly predicted that they do have diabetes<br />\n",
    "**True Negatives (TN)**: (110) we correctly predicted that they don't have diabetes<br />\n",
    "**False Positives (FP)**: (28) we incorrectly predicted that they do have diabetes<br />\n",
    "**False Negatives (FN)**: (15) we incorrectly predicted that they don't have diabetes\n",
    "\n",
    "From these values we can calculate the following classification metrics:\n",
    "\n",
    "**Sensitivity** (aka \"True Positive Rate\" or \"Recall\"): When the actual value is positive, how often is the prediction correct?\n",
    "- Something we want to maximize\n",
    "- How \"sensitive\" is the classifier to detecting positive instances?\n",
    "\n",
    "**Specificity**: When the actual value is negative, how often is the prediction correct?\n",
    "- Something we want to maximize\n",
    "- How \"specific\" (or \"selective\") is the classifier in predicting positive instances?\n"
   ]
  },
  {
   "cell_type": "code",
   "execution_count": 16,
   "metadata": {},
   "outputs": [
    {
     "name": "stdout",
     "output_type": "stream",
     "text": [
      "Sensitivity: 0.5821\n",
      "Specificy  : 0.8800\n"
     ]
    }
   ],
   "source": [
    "# [row, column]\n",
    "TP = confusion_matrix[1, 1]\n",
    "TN = confusion_matrix[0, 0]\n",
    "FP = confusion_matrix[0, 1]\n",
    "FN = confusion_matrix[1, 0]\n",
    "\n",
    "print(\"Sensitivity: %.4f\" % (TP / float(TP + FN)))  \n",
    "print(\"Specificy  : %.4f\" % (TN / float(TN + FP)))"
   ]
  },
  {
   "cell_type": "code",
   "execution_count": 19,
   "metadata": {},
   "outputs": [
    {
     "data": {
      "text/plain": [
       "array([[0.66435018, 0.33564982],\n",
       "       [0.82324223, 0.17675777],\n",
       "       [0.7958249 , 0.2041751 ],\n",
       "       [0.83379042, 0.16620958],\n",
       "       [0.80821949, 0.19178051],\n",
       "       [0.51042333, 0.48957667],\n",
       "       [0.3248177 , 0.6751823 ],\n",
       "       [0.78388668, 0.21611332],\n",
       "       [0.45249273, 0.54750727],\n",
       "       [0.65354613, 0.34645387]])"
      ]
     },
     "execution_count": 19,
     "metadata": {},
     "output_type": "execute_result"
    }
   ],
   "source": [
    "# print the first 10 predicted responses\n",
    "# 1D array (vector) of binary values (0, 1)\n",
    "model.predict(test_X)[0:10]\n",
    "\n",
    "# print the first 10 predicted probabilities of class membership\n",
    "model.predict_proba(test_X)[0:10]"
   ]
  },
  {
   "cell_type": "code",
   "execution_count": 20,
   "metadata": {},
   "outputs": [
    {
     "data": {
      "image/png": "[encoded data removed]",
      "text/plain": [
       "<matplotlib.figure.Figure at 0x10757c390>"
      ]
     },
     "metadata": {},
     "output_type": "display_data"
    }
   ],
   "source": [
    "# histogram of predicted probabilities\n",
    "\n",
    "save_predictions_proba = model.predict_proba(test_X)[:, 1]  # column 1\n",
    "\n",
    "plt.hist(save_predictions_proba, bins=10)\n",
    "plt.xlim(0,1) # x-axis limit from 0 to 1\n",
    "plt.title('Histogram of predicted probabilities')\n",
    "plt.xlabel('Predicted probability of diabetes')\n",
    "plt.ylabel('Frequency')\n",
    "plt.show()"
   ]
  },
  {
   "cell_type": "markdown",
   "metadata": {},
   "source": [
    "**Receiver Operating Characteristic (ROC) Curves**\n",
    "\n",
    "Wouldn't it be nice if we could see how sensitivity and specificity are affected by various thresholds, without actually changing the threshold?  We can do that by plotting the ROC curve."
   ]
  },
  {
   "cell_type": "code",
   "execution_count": 30,
   "metadata": {},
   "outputs": [
    {
     "data": {
      "text/plain": [
       "<matplotlib.legend.Legend at 0x1a118addd0>"
      ]
     },
     "execution_count": 30,
     "metadata": {},
     "output_type": "execute_result"
    },
    {
     "data": {
      "image/png": "[encoded data removed]",
      "text/plain": [
       "<matplotlib.figure.Figure at 0x1a0db02990>"
      ]
     },
     "metadata": {},
     "output_type": "display_data"
    }
   ],
   "source": [
    "from sklearn.metrics import roc_curve, auc\n",
    "\n",
    "# function roc_curve\n",
    "# input: IMPORTANT: first argument is true values, second argument is predicted probabilities\n",
    "#                   we do not use y_pred_class, because it will give incorrect results without \n",
    "#                   generating an error\n",
    "# \n",
    "# output: FPR, TPR, thresholds\n",
    "# FPR: false positive rate\n",
    "# TPR: true positive rate\n",
    "FPR, TPR, thresholds = roc_curve(test_Y, save_predictions_proba)\n",
    "\n",
    "plt.figure(figsize=(10,5))  # figsize in inches\n",
    "plt.plot(FPR, TPR)\n",
    "plt.xlim([0.0, 1.0])\n",
    "plt.ylim([0.0, 1.0])\n",
    "plt.plot([0, 1], [0, 1], color='navy', lw=2, linestyle='--')  # 50%  \n",
    "plt.plot(FPR, TPR, lw=2, label='Logistic Regression (AUC = %0.2f)' % auc(FPR, TPR))\n",
    "plt.title('ROC curve for diabetes classifier')\n",
    "plt.xlabel('False Positive Rate (1 - Specificity)')\n",
    "plt.ylabel('True Positive Rate (Sensitivity)')\n",
    "plt.grid(True)\n",
    "plt.legend(loc=\"lower right\")"
   ]
  },
  {
   "cell_type": "markdown",
   "metadata": {},
   "source": [
    "AUC is the percentage of the ROC plot that is underneath the curve:\n",
    "\n",
    "- AUC is useful as a single number summary of classifier performance, Higher value = better classifier\n",
    "- AUC of 0.5 is like tossing a coin\n",
    "- AUC is useful even when there is high class imbalance (unlike classification accuracy)\n",
    "like in Fraud case with a null accuracy almost 99%\n",
    "\n",
    "A ROC curve can help you to choose a threshold that balances sensitivity and specificity in a way that makes sense for your particular context. You can't actually see the thresholds used to generate the curve on the ROC curve itself. You can use the function and plot below."
   ]
  },
  {
   "cell_type": "markdown",
   "metadata": {},
   "source": [
    "### Dimensionality reduction using PCA\n",
    "- Principal component analysis (PCA) is a technique that transforms a dataset of many features into principal components that \"summarize\" the variance that underlies the data\n",
    "\n",
    "\n",
    "- Each principal component is calculated by finding the linear combination of features that maximizes variance, while also ensuring zero correlation with the previously calculated principal components \n",
    "\n",
    "\n",
    "- Use cases for modeling:\n",
    "    - One of the most common dimensionality reduction techniques\n",
    "    - Use if there are too many features or if observation/feature ratio is poor\n",
    "    - Also, potentially good option if there are a lot of highly correlated variables in your dataset\n",
    "\n",
    "\n",
    "- Unfortunately, PCA makes models a lot harder to interpret"
   ]
  },
  {
   "cell_type": "code",
   "execution_count": 57,
   "metadata": {},
   "outputs": [],
   "source": [
    "# Use PCA from sklearn.decompostion to find principal components\n",
    "from sklearn.decomposition import PCA\n",
    "pca = PCA()\n",
    "X_pca = pd.DataFrame(pca.fit_transform(pima_df))"
   ]
  },
  {
   "cell_type": "code",
   "execution_count": 58,
   "metadata": {},
   "outputs": [
    {
     "data": {
      "text/html": [
       "<div>\n",
       "<style scoped>\n",
       "    .dataframe tbody tr th:only-of-type {\n",
       "        vertical-align: middle;\n",
       "    }\n",
       "\n",
       "    .dataframe tbody tr th {\n",
       "        vertical-align: top;\n",
       "    }\n",
       "\n",
       "    .dataframe thead th {\n",
       "        text-align: right;\n",
       "    }\n",
       "</style>\n",
       "<table border=\"1\" class=\"dataframe\">\n",
       "  <thead>\n",
       "    <tr style=\"text-align: right;\">\n",
       "      <th></th>\n",
       "      <th>0</th>\n",
       "      <th>1</th>\n",
       "      <th>2</th>\n",
       "      <th>3</th>\n",
       "      <th>4</th>\n",
       "      <th>5</th>\n",
       "      <th>6</th>\n",
       "      <th>7</th>\n",
       "      <th>8</th>\n",
       "    </tr>\n",
       "  </thead>\n",
       "  <tbody>\n",
       "    <tr>\n",
       "      <th>0</th>\n",
       "      <td>-75.714249</td>\n",
       "      <td>-35.954944</td>\n",
       "      <td>-7.260683</td>\n",
       "      <td>15.670527</td>\n",
       "      <td>16.507978</td>\n",
       "      <td>3.457417</td>\n",
       "      <td>-0.695208</td>\n",
       "      <td>0.374544</td>\n",
       "      <td>0.005562</td>\n",
       "    </tr>\n",
       "    <tr>\n",
       "      <th>1</th>\n",
       "      <td>-82.358466</td>\n",
       "      <td>28.909559</td>\n",
       "      <td>-5.496649</td>\n",
       "      <td>9.004430</td>\n",
       "      <td>3.480381</td>\n",
       "      <td>5.591914</td>\n",
       "      <td>-2.572576</td>\n",
       "      <td>-0.039284</td>\n",
       "      <td>-0.084468</td>\n",
       "    </tr>\n",
       "    <tr>\n",
       "      <th>2</th>\n",
       "      <td>-74.630229</td>\n",
       "      <td>-67.909633</td>\n",
       "      <td>19.461753</td>\n",
       "      <td>-5.653114</td>\n",
       "      <td>-10.299176</td>\n",
       "      <td>7.139400</td>\n",
       "      <td>4.286099</td>\n",
       "      <td>0.358068</td>\n",
       "      <td>0.190762</td>\n",
       "    </tr>\n",
       "    <tr>\n",
       "      <th>3</th>\n",
       "      <td>11.077206</td>\n",
       "      <td>34.900175</td>\n",
       "      <td>-0.053004</td>\n",
       "      <td>1.314561</td>\n",
       "      <td>-7.619943</td>\n",
       "      <td>2.583990</td>\n",
       "      <td>-0.810101</td>\n",
       "      <td>-0.082633</td>\n",
       "      <td>-0.261065</td>\n",
       "    </tr>\n",
       "    <tr>\n",
       "      <th>4</th>\n",
       "      <td>89.744156</td>\n",
       "      <td>-2.751263</td>\n",
       "      <td>25.213059</td>\n",
       "      <td>18.995906</td>\n",
       "      <td>8.525785</td>\n",
       "      <td>-9.491475</td>\n",
       "      <td>-3.619619</td>\n",
       "      <td>0.802747</td>\n",
       "      <td>1.526730</td>\n",
       "    </tr>\n",
       "  </tbody>\n",
       "</table>\n",
       "</div>"
      ],
      "text/plain": [
       "           0          1          2          3          4         5         6  \\\n",
       "0 -75.714249 -35.954944  -7.260683  15.670527  16.507978  3.457417 -0.695208   \n",
       "1 -82.358466  28.909559  -5.496649   9.004430   3.480381  5.591914 -2.572576   \n",
       "2 -74.630229 -67.909633  19.461753  -5.653114 -10.299176  7.139400  4.286099   \n",
       "3  11.077206  34.900175  -0.053004   1.314561  -7.619943  2.583990 -0.810101   \n",
       "4  89.744156  -2.751263  25.213059  18.995906   8.525785 -9.491475 -3.619619   \n",
       "\n",
       "          7         8  \n",
       "0  0.374544  0.005562  \n",
       "1 -0.039284 -0.084468  \n",
       "2  0.358068  0.190762  \n",
       "3 -0.082633 -0.261065  \n",
       "4  0.802747  1.526730  "
      ]
     },
     "execution_count": 58,
     "metadata": {},
     "output_type": "execute_result"
    }
   ],
   "source": [
    "X_pca.head()"
   ]
  },
  {
   "cell_type": "markdown",
   "metadata": {},
   "source": [
    "**PCA as dimensionality reduction**<br>\n",
    "Using PCA for dimensionality reduction involves zeroing out one or more of the smallest principal components, resulting in a lower-dimensional projection of the data that preserves the maximal data variance."
   ]
  },
  {
   "cell_type": "markdown",
   "metadata": {},
   "source": [
    "**Choosing the number of components**<br>\n",
    "A vital part of using PCA in practice is the ability to estimate how many components are needed to describe the data. This can be determined by looking at the cumulative explained variance ratio as a function of the number of components:"
   ]
  },
  {
   "cell_type": "code",
   "execution_count": 53,
   "metadata": {},
   "outputs": [
    {
     "data": {
      "image/png": "[encoded data removed]",
      "text/plain": [
       "<matplotlib.figure.Figure at 0x1a11e815d0>"
      ]
     },
     "metadata": {},
     "output_type": "display_data"
    }
   ],
   "source": [
    "plt.plot(np.cumsum(pca.explained_variance_ratio_))\n",
    "plt.xlabel('number of components')\n",
    "plt.ylabel('cumulative explained variance');"
   ]
  },
  {
   "cell_type": "code",
   "execution_count": 54,
   "metadata": {},
   "outputs": [
    {
     "name": "stdout",
     "output_type": "stream",
     "text": [
      "('original shape:   ', (768, 9))\n",
      "('transformed shape:', (768, 5))\n"
     ]
    }
   ],
   "source": [
    "pca = PCA(n_components=5)\n",
    "pca.fit(pima_df)\n",
    "X_pca = pca.transform(pima_df)\n",
    "print(\"original shape:   \", pima_df.shape)\n",
    "print(\"transformed shape:\", X_pca.shape)"
   ]
  },
  {
   "cell_type": "code",
   "execution_count": null,
   "metadata": {},
   "outputs": [],
   "source": []
  }
 ],
 "metadata": {
  "kernelspec": {
   "display_name": "Python 2",
   "language": "python",
   "name": "python2"
  },
  "language_info": {
   "codemirror_mode": {
    "name": "ipython",
    "version": 2
   },
   "file_extension": ".py",
   "mimetype": "text/x-python",
   "name": "python",
   "nbconvert_exporter": "python",
   "pygments_lexer": "ipython2",
   "version": "2.7.14"
  }
 },
 "nbformat": 4,
 "nbformat_minor": 2
}
